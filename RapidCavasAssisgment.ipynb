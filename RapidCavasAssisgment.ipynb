{
 "cells": [
  {
   "cell_type": "code",
   "execution_count": 24,
   "id": "2102d8bb",
   "metadata": {},
   "outputs": [],
   "source": [
    "\n",
    "from multipledispatch import dispatch"
   ]
  },
  {
   "cell_type": "code",
   "execution_count": 27,
   "id": "6d37b4f3",
   "metadata": {},
   "outputs": [],
   "source": [
    "class dropColumns:\n",
    "\n",
    "    #passing one parameter\n",
    "    @dispatch(int,int)\n",
    "    def product(first,second):\n",
    "        result = first*second\n",
    "        print(result);\n",
    "\n",
    "    #passing two parameters\n",
    "    @dispatch(int,int,int)\n",
    "    def product(first,second,third):\n",
    "        result  = first * second * third\n",
    "        print(result);\n",
    "\n",
    "    #you can also pass data type of any value as per requirement\n",
    "    @dispatch(float,float,float)\n",
    "    def product(first,second,third):\n",
    "        result  = first * second * third\n",
    "        print(result);"
   ]
  },
  {
   "cell_type": "code",
   "execution_count": 28,
   "id": "b30e5d41",
   "metadata": {},
   "outputs": [],
   "source": [
    "obj = World "
   ]
  },
  {
   "cell_type": "code",
   "execution_count": 30,
   "id": "66816f00",
   "metadata": {},
   "outputs": [
    {
     "ename": "TypeError",
     "evalue": "product() missing 1 required positional argument: 'c'",
     "output_type": "error",
     "traceback": [
      "\u001b[1;31m---------------------------------------------------------------------------\u001b[0m",
      "\u001b[1;31mTypeError\u001b[0m                                 Traceback (most recent call last)",
      "\u001b[1;32m~\\AppData\\Local\\Temp\\3\\ipykernel_14812\\3783005318.py\u001b[0m in \u001b[0;36m<module>\u001b[1;34m\u001b[0m\n\u001b[0;32m      1\u001b[0m \u001b[1;31m#calling product method with 2 arguments\u001b[0m\u001b[1;33m\u001b[0m\u001b[1;33m\u001b[0m\u001b[1;33m\u001b[0m\u001b[0m\n\u001b[1;32m----> 2\u001b[1;33m \u001b[0mobj\u001b[0m\u001b[1;33m.\u001b[0m\u001b[0mproduct\u001b[0m\u001b[1;33m(\u001b[0m\u001b[1;36m2\u001b[0m\u001b[1;33m,\u001b[0m\u001b[1;36m3\u001b[0m\u001b[1;33m)\u001b[0m \u001b[1;31m#this will give output of 12\u001b[0m\u001b[1;33m\u001b[0m\u001b[1;33m\u001b[0m\u001b[0m\n\u001b[0m\u001b[0;32m      3\u001b[0m \u001b[0mobj\u001b[0m\u001b[1;33m.\u001b[0m\u001b[0mproduct\u001b[0m\u001b[1;33m(\u001b[0m\u001b[1;36m2.2\u001b[0m\u001b[1;33m,\u001b[0m\u001b[1;36m3.4\u001b[0m\u001b[1;33m,\u001b[0m\u001b[1;36m2.3\u001b[0m\u001b[1;33m)\u001b[0m \u001b[1;31m# this will give output of 17.985999999999997\u001b[0m\u001b[1;33m\u001b[0m\u001b[1;33m\u001b[0m\u001b[0m\n",
      "\u001b[1;31mTypeError\u001b[0m: product() missing 1 required positional argument: 'c'"
     ]
    }
   ],
   "source": [
    "#calling product method with 2 arguments\n",
    "obj.product(2,3) #this will give output of 12\n",
    "obj.product(2.2,3.4,2.3) # this will give output of 17.985999999999997"
   ]
  },
  {
   "cell_type": "code",
   "execution_count": 31,
   "id": "484b1272",
   "metadata": {},
   "outputs": [],
   "source": [
    "#passing one parameter\n",
    "@dispatch(int,int)\n",
    "def product(first,second):\n",
    "    result = first*second\n",
    "    print(result);\n",
    "\n",
    "#passing two parameters\n",
    "@dispatch(int,int,int)\n",
    "def product(first,second,third):\n",
    "    result  = first * second * third\n",
    "    print(result);\n",
    "\n",
    "#you can also pass data type of any value as per requirement\n",
    "@dispatch(float,float,float)\n",
    "def product(first,second,third):\n",
    "    result  = first * second * third\n",
    "    print(result);"
   ]
  },
  {
   "cell_type": "code",
   "execution_count": 32,
   "id": "912ccd32",
   "metadata": {},
   "outputs": [
    {
     "ename": "TypeError",
     "evalue": "product() missing 1 required positional argument: 'c'",
     "output_type": "error",
     "traceback": [
      "\u001b[1;31m---------------------------------------------------------------------------\u001b[0m",
      "\u001b[1;31mTypeError\u001b[0m                                 Traceback (most recent call last)",
      "\u001b[1;32m~\\AppData\\Local\\Temp\\3\\ipykernel_14812\\3825275262.py\u001b[0m in \u001b[0;36m<module>\u001b[1;34m\u001b[0m\n\u001b[1;32m----> 1\u001b[1;33m \u001b[0mobj\u001b[0m\u001b[1;33m.\u001b[0m\u001b[0mproduct\u001b[0m\u001b[1;33m(\u001b[0m\u001b[1;36m2\u001b[0m\u001b[1;33m,\u001b[0m\u001b[1;36m3\u001b[0m\u001b[1;33m)\u001b[0m \u001b[1;31m#this will give output of 12\u001b[0m\u001b[1;33m\u001b[0m\u001b[1;33m\u001b[0m\u001b[0m\n\u001b[0m\u001b[0;32m      2\u001b[0m \u001b[0mobj\u001b[0m\u001b[1;33m.\u001b[0m\u001b[0mproduct\u001b[0m\u001b[1;33m(\u001b[0m\u001b[1;36m2.2\u001b[0m\u001b[1;33m,\u001b[0m\u001b[1;36m3.4\u001b[0m\u001b[1;33m,\u001b[0m\u001b[1;36m2.3\u001b[0m\u001b[1;33m)\u001b[0m \u001b[1;31m# this will give output of 17.985999999999997\u001b[0m\u001b[1;33m\u001b[0m\u001b[1;33m\u001b[0m\u001b[0m\n",
      "\u001b[1;31mTypeError\u001b[0m: product() missing 1 required positional argument: 'c'"
     ]
    }
   ],
   "source": [
    "obj.product(2,3) #this will give output of 12\n",
    "obj.product(2.2,3.4,2.3) # this will give output of 17.985999999999997"
   ]
  },
  {
   "cell_type": "code",
   "execution_count": 36,
   "id": "b98b0298",
   "metadata": {},
   "outputs": [
    {
     "data": {
      "text/plain": [
       "0"
      ]
     },
     "execution_count": 36,
     "metadata": {},
     "output_type": "execute_result"
    }
   ],
   "source": [
    "class drop_columns:\n",
    "    def area(self, x=None, y=None):\n",
    "          if x!=None and y!=None:\n",
    "              return x*y\n",
    "          elif x!=None:\n",
    "              return x*x\n",
    "          else:\n",
    "              return 0\n",
    "\n",
    "\n"
   ]
  },
  {
   "cell_type": "code",
   "execution_count": 37,
   "id": "e435df47",
   "metadata": {},
   "outputs": [
    {
     "data": {
      "text/plain": [
       "16"
      ]
     },
     "execution_count": 37,
     "metadata": {},
     "output_type": "execute_result"
    }
   ],
   "source": [
    "obj = Compute()\n",
    "obj.area()\n",
    "obj.area(2,8)"
   ]
  },
  {
   "cell_type": "code",
   "execution_count": 38,
   "id": "3edbc95a",
   "metadata": {},
   "outputs": [
    {
     "data": {
      "text/plain": [
       "36"
      ]
     },
     "execution_count": 38,
     "metadata": {},
     "output_type": "execute_result"
    }
   ],
   "source": [
    "obj.area(6)"
   ]
  },
  {
   "cell_type": "code",
   "execution_count": null,
   "id": "4aaa3520",
   "metadata": {},
   "outputs": [],
   "source": [
    "class Character(object):\n",
    "    # your character __init__ and other methods go here\n",
    "\n",
    "    def add_bullet(self, sprite=default, start=default, \n",
    "                 direction=default, speed=default, accel=default, \n",
    "                  curve=default):\n",
    "        # do stuff with your arguments"
   ]
  },
  {
   "cell_type": "code",
   "execution_count": null,
   "id": "3956c143",
   "metadata": {},
   "outputs": [],
   "source": []
  },
  {
   "cell_type": "code",
   "execution_count": 26,
   "id": "6e0c3910",
   "metadata": {},
   "outputs": [],
   "source": [
    "class dropColumns(object):\n",
    "    def removeColsByAttr(self, *args, **kwargs):\n",
    "        # Call the function that has the same number of non-keyword arguments.\n",
    "        getattr(self, \"_overloaded_function_impl_\" + str(len(args)))(*args, **kwargs)\n",
    "\n",
    "    def removeColByName(self, colName):\n",
    "        print( \"Removing Column By Column Name\"+colName)\n",
    "        \n",
    "#     def removeColByIndex(self, sprite, script):\n",
    "#         print (\"This is overload 2\")\n",
    "    "
   ]
  },
  {
   "cell_type": "code",
   "execution_count": 28,
   "id": "b13dde5e",
   "metadata": {},
   "outputs": [],
   "source": [
    "test = dropColumns()"
   ]
  },
  {
   "cell_type": "code",
   "execution_count": null,
   "id": "5f60e5f2",
   "metadata": {},
   "outputs": [],
   "source": [
    "test.removeColsByAttr"
   ]
  },
  {
   "cell_type": "code",
   "execution_count": 90,
   "id": "3c641378",
   "metadata": {},
   "outputs": [
    {
     "name": "stdout",
     "output_type": "stream",
     "text": [
      "     Name  ID    Role\n",
      "0  Pankaj   1     CEO\n",
      "1  Meghna   2     CTO\n",
      "2   David   3  Editor\n"
     ]
    }
   ],
   "source": [
    "import pandas as pd\n",
    "\n",
    "d1 = {'Name': ['Pankaj', 'Meghna', 'David'], 'ID': [1, 2, 3], 'Role': ['CEO', 'CTO', 'Editor']}\n",
    "\n",
    "source_df = pd.DataFrame(d1)\n",
    "\n",
    "print(source_df)"
   ]
  },
  {
   "cell_type": "code",
   "execution_count": null,
   "id": "0fd10b8d",
   "metadata": {},
   "outputs": [],
   "source": []
  },
  {
   "cell_type": "code",
   "execution_count": 91,
   "id": "a48645e2",
   "metadata": {},
   "outputs": [],
   "source": [
    "class dropColumns(object):\n",
    "    def removeColByName(self,source_df,colName):\n",
    "        source_df.drop(columns=colName,inplace =True)\n",
    "        return source_df\n",
    "    def removeMultipleColsByName(self,source_df,colName):\n",
    "        source_df.drop(columns=colName,inplace =True)\n",
    "        return source_df\n",
    "    def removeSingleColByIndex(self,source_df,indexNum):\n",
    "        source_df.drop(source_df.columns[[indexNum]],inplace =True,axis = 1)\n",
    "        return source_df\n",
    "    def removeMultiColByIndex(self,source_df,indexNums):\n",
    "        source_df.drop(source_df.columns[[indexNums]],inplace =True,axis = 1)\n",
    "        return source_df\n",
    "    def removeColumnsByCondition(self,)\n",
    "    "
   ]
  },
  {
   "cell_type": "code",
   "execution_count": 92,
   "id": "d8afef4f",
   "metadata": {},
   "outputs": [],
   "source": [
    "test = dropColumns()"
   ]
  },
  {
   "cell_type": "code",
   "execution_count": 93,
   "id": "da72a789",
   "metadata": {},
   "outputs": [
    {
     "data": {
      "text/html": [
       "<div>\n",
       "<style scoped>\n",
       "    .dataframe tbody tr th:only-of-type {\n",
       "        vertical-align: middle;\n",
       "    }\n",
       "\n",
       "    .dataframe tbody tr th {\n",
       "        vertical-align: top;\n",
       "    }\n",
       "\n",
       "    .dataframe thead th {\n",
       "        text-align: right;\n",
       "    }\n",
       "</style>\n",
       "<table border=\"1\" class=\"dataframe\">\n",
       "  <thead>\n",
       "    <tr style=\"text-align: right;\">\n",
       "      <th></th>\n",
       "      <th>ID</th>\n",
       "      <th>Role</th>\n",
       "    </tr>\n",
       "  </thead>\n",
       "  <tbody>\n",
       "    <tr>\n",
       "      <th>0</th>\n",
       "      <td>1</td>\n",
       "      <td>CEO</td>\n",
       "    </tr>\n",
       "    <tr>\n",
       "      <th>1</th>\n",
       "      <td>2</td>\n",
       "      <td>CTO</td>\n",
       "    </tr>\n",
       "    <tr>\n",
       "      <th>2</th>\n",
       "      <td>3</td>\n",
       "      <td>Editor</td>\n",
       "    </tr>\n",
       "  </tbody>\n",
       "</table>\n",
       "</div>"
      ],
      "text/plain": [
       "   ID    Role\n",
       "0   1     CEO\n",
       "1   2     CTO\n",
       "2   3  Editor"
      ]
     },
     "execution_count": 93,
     "metadata": {},
     "output_type": "execute_result"
    }
   ],
   "source": [
    "test.removeSingleColByIndex(source_df,0)"
   ]
  },
  {
   "cell_type": "code",
   "execution_count": null,
   "id": "1e69195b",
   "metadata": {},
   "outputs": [],
   "source": [
    "test.removeSingleColByIndex(source_df,0)"
   ]
  },
  {
   "cell_type": "code",
   "execution_count": null,
   "id": "d45084f1",
   "metadata": {},
   "outputs": [],
   "source": []
  },
  {
   "cell_type": "code",
   "execution_count": 81,
   "id": "25a91b87",
   "metadata": {},
   "outputs": [
    {
     "data": {
      "text/html": [
       "<div>\n",
       "<style scoped>\n",
       "    .dataframe tbody tr th:only-of-type {\n",
       "        vertical-align: middle;\n",
       "    }\n",
       "\n",
       "    .dataframe tbody tr th {\n",
       "        vertical-align: top;\n",
       "    }\n",
       "\n",
       "    .dataframe thead th {\n",
       "        text-align: right;\n",
       "    }\n",
       "</style>\n",
       "<table border=\"1\" class=\"dataframe\">\n",
       "  <thead>\n",
       "    <tr style=\"text-align: right;\">\n",
       "      <th></th>\n",
       "      <th>Name</th>\n",
       "      <th>ID</th>\n",
       "      <th>Role</th>\n",
       "    </tr>\n",
       "  </thead>\n",
       "  <tbody>\n",
       "    <tr>\n",
       "      <th>1</th>\n",
       "      <td>Meghna</td>\n",
       "      <td>2</td>\n",
       "      <td>CTO</td>\n",
       "    </tr>\n",
       "    <tr>\n",
       "      <th>2</th>\n",
       "      <td>David</td>\n",
       "      <td>3</td>\n",
       "      <td>Editor</td>\n",
       "    </tr>\n",
       "  </tbody>\n",
       "</table>\n",
       "</div>"
      ],
      "text/plain": [
       "     Name  ID    Role\n",
       "1  Meghna   2     CTO\n",
       "2   David   3  Editor"
      ]
     },
     "execution_count": 81,
     "metadata": {},
     "output_type": "execute_result"
    }
   ],
   "source": [
    "coltoDel = test.removeColByIndex(source_df,0)\n",
    "coltoDel"
   ]
  },
  {
   "cell_type": "code",
   "execution_count": 82,
   "id": "840b37e1",
   "metadata": {},
   "outputs": [
    {
     "name": "stdout",
     "output_type": "stream",
     "text": [
      "            Courses    Fee Duration\n",
      "0             Spark  22000   30days\n",
      "1             Spark  25000   35days\n",
      "2           PySpark  23000   40days\n",
      "3              JAVA  24000   45days\n",
      "4            Hadoop  26000   50days\n",
      "5              .Net  30000   55days\n",
      "6            Python  27000   60days\n",
      "7               AEM  28000   35days\n",
      "8            Oracle  35000   30days\n",
      "9           SQL DBA  32000   40days\n",
      "10                C  20000   50days\n",
      "11  WebTechnologies  15000   55days\n"
     ]
    }
   ],
   "source": [
    "technologies= {\n",
    "    'Courses':[\"Spark\",\"Spark\",\"PySpark\",\"JAVA\",\"Hadoop\",\".Net\",\"Python\",\"AEM\",\"Oracle\",\"SQL DBA\",\"C\",\"WebTechnologies\"],\n",
    "    'Fee' :[22000,25000,23000,24000,26000,30000,27000,28000,35000,32000,20000,15000],\n",
    "    'Duration':['30days','35days','40days','45days','50days','55days','60days','35days','30days','40days','50days','55days']\n",
    "          }\n",
    "df = pd.DataFrame(technologies)\n",
    "print(df)"
   ]
  },
  {
   "cell_type": "code",
   "execution_count": null,
   "id": "ba8a7d86",
   "metadata": {},
   "outputs": [],
   "source": []
  },
  {
   "cell_type": "code",
   "execution_count": null,
   "id": "a74e1523",
   "metadata": {},
   "outputs": [],
   "source": []
  },
  {
   "cell_type": "code",
   "execution_count": null,
   "id": "ecc5077f",
   "metadata": {},
   "outputs": [],
   "source": []
  },
  {
   "cell_type": "code",
   "execution_count": null,
   "id": "673ecb02",
   "metadata": {},
   "outputs": [],
   "source": []
  },
  {
   "cell_type": "code",
   "execution_count": null,
   "id": "33440054",
   "metadata": {},
   "outputs": [],
   "source": []
  },
  {
   "cell_type": "code",
   "execution_count": null,
   "id": "e196e802",
   "metadata": {},
   "outputs": [],
   "source": []
  },
  {
   "cell_type": "code",
   "execution_count": null,
   "id": "200be008",
   "metadata": {},
   "outputs": [],
   "source": []
  },
  {
   "cell_type": "code",
   "execution_count": 47,
   "id": "1c734c79",
   "metadata": {},
   "outputs": [
    {
     "data": {
      "text/html": [
       "<div>\n",
       "<style scoped>\n",
       "    .dataframe tbody tr th:only-of-type {\n",
       "        vertical-align: middle;\n",
       "    }\n",
       "\n",
       "    .dataframe tbody tr th {\n",
       "        vertical-align: top;\n",
       "    }\n",
       "\n",
       "    .dataframe thead th {\n",
       "        text-align: right;\n",
       "    }\n",
       "</style>\n",
       "<table border=\"1\" class=\"dataframe\">\n",
       "  <thead>\n",
       "    <tr style=\"text-align: right;\">\n",
       "      <th></th>\n",
       "      <th>Name</th>\n",
       "    </tr>\n",
       "  </thead>\n",
       "  <tbody>\n",
       "    <tr>\n",
       "      <th>0</th>\n",
       "      <td>Pankaj</td>\n",
       "    </tr>\n",
       "    <tr>\n",
       "      <th>1</th>\n",
       "      <td>Meghna</td>\n",
       "    </tr>\n",
       "    <tr>\n",
       "      <th>2</th>\n",
       "      <td>David</td>\n",
       "    </tr>\n",
       "  </tbody>\n",
       "</table>\n",
       "</div>"
      ],
      "text/plain": [
       "     Name\n",
       "0  Pankaj\n",
       "1  Meghna\n",
       "2   David"
      ]
     },
     "execution_count": 47,
     "metadata": {},
     "output_type": "execute_result"
    }
   ],
   "source": [
    "source_df = test.removeColByName(source_df,['ID','Role'])\n",
    "source_df"
   ]
  },
  {
   "cell_type": "code",
   "execution_count": null,
   "id": "55a80457",
   "metadata": {},
   "outputs": [],
   "source": []
  },
  {
   "cell_type": "code",
   "execution_count": null,
   "id": "e39e037f",
   "metadata": {},
   "outputs": [],
   "source": []
  },
  {
   "cell_type": "code",
   "execution_count": null,
   "id": "f24ccebf",
   "metadata": {},
   "outputs": [],
   "source": []
  },
  {
   "cell_type": "code",
   "execution_count": null,
   "id": "f7e38eb2",
   "metadata": {},
   "outputs": [],
   "source": []
  },
  {
   "cell_type": "code",
   "execution_count": null,
   "id": "2f8536f1",
   "metadata": {},
   "outputs": [],
   "source": []
  },
  {
   "cell_type": "code",
   "execution_count": null,
   "id": "2547c904",
   "metadata": {},
   "outputs": [],
   "source": []
  },
  {
   "cell_type": "code",
   "execution_count": null,
   "id": "4eccdf10",
   "metadata": {},
   "outputs": [],
   "source": []
  },
  {
   "cell_type": "code",
   "execution_count": null,
   "id": "82cdd54b",
   "metadata": {},
   "outputs": [],
   "source": []
  }
 ],
 "metadata": {
  "kernelspec": {
   "display_name": "Python 3 (ipykernel)",
   "language": "python",
   "name": "python3"
  },
  "language_info": {
   "codemirror_mode": {
    "name": "ipython",
    "version": 3
   },
   "file_extension": ".py",
   "mimetype": "text/x-python",
   "name": "python",
   "nbconvert_exporter": "python",
   "pygments_lexer": "ipython3",
   "version": "3.7.9"
  }
 },
 "nbformat": 4,
 "nbformat_minor": 5
}
