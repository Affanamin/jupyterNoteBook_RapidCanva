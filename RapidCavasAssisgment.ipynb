{
 "cells": [
  {
   "cell_type": "code",
   "execution_count": 24,
   "id": "2102d8bb",
   "metadata": {},
   "outputs": [],
   "source": [
    "\n",
    "from multipledispatch import dispatch"
   ]
  },
  {
   "cell_type": "code",
   "execution_count": 27,
   "id": "6d37b4f3",
   "metadata": {},
   "outputs": [],
   "source": [
    "class dropColumns:\n",
    "\n",
    "    #passing one parameter\n",
    "    @dispatch(int,int)\n",
    "    def product(first,second):\n",
    "        result = first*second\n",
    "        print(result);\n",
    "\n",
    "    #passing two parameters\n",
    "    @dispatch(int,int,int)\n",
    "    def product(first,second,third):\n",
    "        result  = first * second * third\n",
    "        print(result);\n",
    "\n",
    "    #you can also pass data type of any value as per requirement\n",
    "    @dispatch(float,float,float)\n",
    "    def product(first,second,third):\n",
    "        result  = first * second * third\n",
    "        print(result);"
   ]
  },
  {
   "cell_type": "code",
   "execution_count": 28,
   "id": "b30e5d41",
   "metadata": {},
   "outputs": [],
   "source": [
    "obj = World "
   ]
  },
  {
   "cell_type": "code",
   "execution_count": 30,
   "id": "66816f00",
   "metadata": {},
   "outputs": [
    {
     "ename": "TypeError",
     "evalue": "product() missing 1 required positional argument: 'c'",
     "output_type": "error",
     "traceback": [
      "\u001b[1;31m---------------------------------------------------------------------------\u001b[0m",
      "\u001b[1;31mTypeError\u001b[0m                                 Traceback (most recent call last)",
      "\u001b[1;32m~\\AppData\\Local\\Temp\\3\\ipykernel_14812\\3783005318.py\u001b[0m in \u001b[0;36m<module>\u001b[1;34m\u001b[0m\n\u001b[0;32m      1\u001b[0m \u001b[1;31m#calling product method with 2 arguments\u001b[0m\u001b[1;33m\u001b[0m\u001b[1;33m\u001b[0m\u001b[1;33m\u001b[0m\u001b[0m\n\u001b[1;32m----> 2\u001b[1;33m \u001b[0mobj\u001b[0m\u001b[1;33m.\u001b[0m\u001b[0mproduct\u001b[0m\u001b[1;33m(\u001b[0m\u001b[1;36m2\u001b[0m\u001b[1;33m,\u001b[0m\u001b[1;36m3\u001b[0m\u001b[1;33m)\u001b[0m \u001b[1;31m#this will give output of 12\u001b[0m\u001b[1;33m\u001b[0m\u001b[1;33m\u001b[0m\u001b[0m\n\u001b[0m\u001b[0;32m      3\u001b[0m \u001b[0mobj\u001b[0m\u001b[1;33m.\u001b[0m\u001b[0mproduct\u001b[0m\u001b[1;33m(\u001b[0m\u001b[1;36m2.2\u001b[0m\u001b[1;33m,\u001b[0m\u001b[1;36m3.4\u001b[0m\u001b[1;33m,\u001b[0m\u001b[1;36m2.3\u001b[0m\u001b[1;33m)\u001b[0m \u001b[1;31m# this will give output of 17.985999999999997\u001b[0m\u001b[1;33m\u001b[0m\u001b[1;33m\u001b[0m\u001b[0m\n",
      "\u001b[1;31mTypeError\u001b[0m: product() missing 1 required positional argument: 'c'"
     ]
    }
   ],
   "source": [
    "#calling product method with 2 arguments\n",
    "obj.product(2,3) #this will give output of 12\n",
    "obj.product(2.2,3.4,2.3) # this will give output of 17.985999999999997"
   ]
  },
  {
   "cell_type": "code",
   "execution_count": 31,
   "id": "484b1272",
   "metadata": {},
   "outputs": [],
   "source": [
    "#passing one parameter\n",
    "@dispatch(int,int)\n",
    "def product(first,second):\n",
    "    result = first*second\n",
    "    print(result);\n",
    "\n",
    "#passing two parameters\n",
    "@dispatch(int,int,int)\n",
    "def product(first,second,third):\n",
    "    result  = first * second * third\n",
    "    print(result);\n",
    "\n",
    "#you can also pass data type of any value as per requirement\n",
    "@dispatch(float,float,float)\n",
    "def product(first,second,third):\n",
    "    result  = first * second * third\n",
    "    print(result);"
   ]
  },
  {
   "cell_type": "code",
   "execution_count": 32,
   "id": "912ccd32",
   "metadata": {},
   "outputs": [
    {
     "ename": "TypeError",
     "evalue": "product() missing 1 required positional argument: 'c'",
     "output_type": "error",
     "traceback": [
      "\u001b[1;31m---------------------------------------------------------------------------\u001b[0m",
      "\u001b[1;31mTypeError\u001b[0m                                 Traceback (most recent call last)",
      "\u001b[1;32m~\\AppData\\Local\\Temp\\3\\ipykernel_14812\\3825275262.py\u001b[0m in \u001b[0;36m<module>\u001b[1;34m\u001b[0m\n\u001b[1;32m----> 1\u001b[1;33m \u001b[0mobj\u001b[0m\u001b[1;33m.\u001b[0m\u001b[0mproduct\u001b[0m\u001b[1;33m(\u001b[0m\u001b[1;36m2\u001b[0m\u001b[1;33m,\u001b[0m\u001b[1;36m3\u001b[0m\u001b[1;33m)\u001b[0m \u001b[1;31m#this will give output of 12\u001b[0m\u001b[1;33m\u001b[0m\u001b[1;33m\u001b[0m\u001b[0m\n\u001b[0m\u001b[0;32m      2\u001b[0m \u001b[0mobj\u001b[0m\u001b[1;33m.\u001b[0m\u001b[0mproduct\u001b[0m\u001b[1;33m(\u001b[0m\u001b[1;36m2.2\u001b[0m\u001b[1;33m,\u001b[0m\u001b[1;36m3.4\u001b[0m\u001b[1;33m,\u001b[0m\u001b[1;36m2.3\u001b[0m\u001b[1;33m)\u001b[0m \u001b[1;31m# this will give output of 17.985999999999997\u001b[0m\u001b[1;33m\u001b[0m\u001b[1;33m\u001b[0m\u001b[0m\n",
      "\u001b[1;31mTypeError\u001b[0m: product() missing 1 required positional argument: 'c'"
     ]
    }
   ],
   "source": [
    "obj.product(2,3) #this will give output of 12\n",
    "obj.product(2.2,3.4,2.3) # this will give output of 17.985999999999997"
   ]
  },
  {
   "cell_type": "code",
   "execution_count": 36,
   "id": "b98b0298",
   "metadata": {},
   "outputs": [
    {
     "data": {
      "text/plain": [
       "0"
      ]
     },
     "execution_count": 36,
     "metadata": {},
     "output_type": "execute_result"
    }
   ],
   "source": [
    "class drop_columns:\n",
    "    def area(self, x=None, y=None):\n",
    "          if x!=None and y!=None:\n",
    "              return x*y\n",
    "          elif x!=None:\n",
    "              return x*x\n",
    "          else:\n",
    "              return 0\n",
    "\n",
    "\n"
   ]
  },
  {
   "cell_type": "code",
   "execution_count": 37,
   "id": "e435df47",
   "metadata": {},
   "outputs": [
    {
     "data": {
      "text/plain": [
       "16"
      ]
     },
     "execution_count": 37,
     "metadata": {},
     "output_type": "execute_result"
    }
   ],
   "source": [
    "obj = Compute()\n",
    "obj.area()\n",
    "obj.area(2,8)"
   ]
  },
  {
   "cell_type": "code",
   "execution_count": 38,
   "id": "3edbc95a",
   "metadata": {},
   "outputs": [
    {
     "data": {
      "text/plain": [
       "36"
      ]
     },
     "execution_count": 38,
     "metadata": {},
     "output_type": "execute_result"
    }
   ],
   "source": [
    "obj.area(6)"
   ]
  },
  {
   "cell_type": "code",
   "execution_count": null,
   "id": "4aaa3520",
   "metadata": {},
   "outputs": [],
   "source": [
    "class Character(object):\n",
    "    # your character __init__ and other methods go here\n",
    "\n",
    "    def add_bullet(self, sprite=default, start=default, \n",
    "                 direction=default, speed=default, accel=default, \n",
    "                  curve=default):\n",
    "        # do stuff with your arguments"
   ]
  },
  {
   "cell_type": "code",
   "execution_count": null,
   "id": "3956c143",
   "metadata": {},
   "outputs": [],
   "source": []
  },
  {
   "cell_type": "code",
   "execution_count": 41,
   "id": "6e0c3910",
   "metadata": {},
   "outputs": [
    {
     "ename": "SyntaxError",
     "evalue": "Missing parentheses in call to 'print'. Did you mean print(\"This is overload 3\")? (2162605750.py, line 7)",
     "output_type": "error",
     "traceback": [
      "\u001b[1;36m  File \u001b[1;32m\"C:\\Users\\Affan-Admin\\AppData\\Local\\Temp\\3\\ipykernel_14812\\2162605750.py\"\u001b[1;36m, line \u001b[1;32m7\u001b[0m\n\u001b[1;33m    print \"This is overload 3\"\u001b[0m\n\u001b[1;37m                             ^\u001b[0m\n\u001b[1;31mSyntaxError\u001b[0m\u001b[1;31m:\u001b[0m Missing parentheses in call to 'print'. Did you mean print(\"This is overload 3\")?\n"
     ]
    }
   ],
   "source": [
    "class TestOverloading(object):\n",
    "    def overloaded_function(self, *args, **kwargs):\n",
    "        # Call the function that has the same number of non-keyword arguments.\n",
    "        getattr(self, \"_overloaded_function_impl_\" + str(len(args)))(*args, **kwargs)\n",
    "\n",
    "    def _overloaded_function_impl_3(self, sprite, start, direction, **kwargs):\n",
    "        print \"This is overload 3\"\n",
    "        print \"Sprite: %s\" % str(sprite)\n",
    "        print \"Start: %s\" % str(start)\n",
    "        print \"Direction: %s\" % str(direction)\n",
    "\n",
    "    def _overloaded_function_impl_2(self, sprite, script):\n",
    "        print \"This is overload 2\"\n",
    "        print \"Sprite: %s\" % str(sprite)\n",
    "        print \"Script: \"\n",
    "        print script"
   ]
  },
  {
   "cell_type": "code",
   "execution_count": 40,
   "id": "b13dde5e",
   "metadata": {},
   "outputs": [
    {
     "ename": "NameError",
     "evalue": "name 'TestOverloading' is not defined",
     "output_type": "error",
     "traceback": [
      "\u001b[1;31m---------------------------------------------------------------------------\u001b[0m",
      "\u001b[1;31mNameError\u001b[0m                                 Traceback (most recent call last)",
      "\u001b[1;32m~\\AppData\\Local\\Temp\\3\\ipykernel_14812\\219829679.py\u001b[0m in \u001b[0;36m<module>\u001b[1;34m\u001b[0m\n\u001b[1;32m----> 1\u001b[1;33m \u001b[0mtest\u001b[0m \u001b[1;33m=\u001b[0m \u001b[0mTestOverloading\u001b[0m\u001b[1;33m(\u001b[0m\u001b[1;33m)\u001b[0m\u001b[1;33m\u001b[0m\u001b[1;33m\u001b[0m\u001b[0m\n\u001b[0m\u001b[0;32m      2\u001b[0m \u001b[1;33m\u001b[0m\u001b[0m\n\u001b[0;32m      3\u001b[0m \u001b[0mtest\u001b[0m\u001b[1;33m.\u001b[0m\u001b[0moverloaded_function\u001b[0m\u001b[1;33m(\u001b[0m\u001b[1;34m\"I'm a Sprite\"\u001b[0m\u001b[1;33m,\u001b[0m \u001b[1;36m0\u001b[0m\u001b[1;33m,\u001b[0m \u001b[1;34m\"Right\"\u001b[0m\u001b[1;33m)\u001b[0m\u001b[1;33m\u001b[0m\u001b[1;33m\u001b[0m\u001b[0m\n\u001b[0;32m      4\u001b[0m \u001b[0mprint\u001b[0m\u001b[1;33m\u001b[0m\u001b[1;33m\u001b[0m\u001b[0m\n\u001b[0;32m      5\u001b[0m \u001b[0mtest\u001b[0m\u001b[1;33m.\u001b[0m\u001b[0moverloaded_function\u001b[0m\u001b[1;33m(\u001b[0m\u001b[1;34m\"I'm another Sprite\"\u001b[0m\u001b[1;33m,\u001b[0m \u001b[1;34m\"while x == True: print 'hi'\"\u001b[0m\u001b[1;33m)\u001b[0m\u001b[1;33m\u001b[0m\u001b[1;33m\u001b[0m\u001b[0m\n",
      "\u001b[1;31mNameError\u001b[0m: name 'TestOverloading' is not defined"
     ]
    }
   ],
   "source": [
    "test = TestOverloading()\n",
    "\n",
    "test.overloaded_function(\"I'm a Sprite\", 0, \"Right\")\n",
    "print\n",
    "test.overloaded_function(\"I'm another Sprite\", \"while x == True: print 'hi'\")"
   ]
  },
  {
   "cell_type": "code",
   "execution_count": null,
   "id": "3c641378",
   "metadata": {},
   "outputs": [],
   "source": []
  },
  {
   "cell_type": "code",
   "execution_count": null,
   "id": "0fd10b8d",
   "metadata": {},
   "outputs": [],
   "source": []
  },
  {
   "cell_type": "code",
   "execution_count": null,
   "id": "a48645e2",
   "metadata": {},
   "outputs": [],
   "source": []
  },
  {
   "cell_type": "code",
   "execution_count": null,
   "id": "d8afef4f",
   "metadata": {},
   "outputs": [],
   "source": []
  },
  {
   "cell_type": "code",
   "execution_count": null,
   "id": "1c734c79",
   "metadata": {},
   "outputs": [],
   "source": []
  },
  {
   "cell_type": "code",
   "execution_count": null,
   "id": "55a80457",
   "metadata": {},
   "outputs": [],
   "source": []
  },
  {
   "cell_type": "code",
   "execution_count": null,
   "id": "e39e037f",
   "metadata": {},
   "outputs": [],
   "source": []
  },
  {
   "cell_type": "code",
   "execution_count": null,
   "id": "f24ccebf",
   "metadata": {},
   "outputs": [],
   "source": []
  },
  {
   "cell_type": "code",
   "execution_count": null,
   "id": "f7e38eb2",
   "metadata": {},
   "outputs": [],
   "source": []
  },
  {
   "cell_type": "code",
   "execution_count": null,
   "id": "2f8536f1",
   "metadata": {},
   "outputs": [],
   "source": []
  },
  {
   "cell_type": "code",
   "execution_count": null,
   "id": "2547c904",
   "metadata": {},
   "outputs": [],
   "source": []
  },
  {
   "cell_type": "code",
   "execution_count": null,
   "id": "4eccdf10",
   "metadata": {},
   "outputs": [],
   "source": []
  },
  {
   "cell_type": "code",
   "execution_count": null,
   "id": "82cdd54b",
   "metadata": {},
   "outputs": [],
   "source": []
  }
 ],
 "metadata": {
  "kernelspec": {
   "display_name": "Python 3 (ipykernel)",
   "language": "python",
   "name": "python3"
  },
  "language_info": {
   "codemirror_mode": {
    "name": "ipython",
    "version": 3
   },
   "file_extension": ".py",
   "mimetype": "text/x-python",
   "name": "python",
   "nbconvert_exporter": "python",
   "pygments_lexer": "ipython3",
   "version": "3.7.9"
  }
 },
 "nbformat": 4,
 "nbformat_minor": 5
}
